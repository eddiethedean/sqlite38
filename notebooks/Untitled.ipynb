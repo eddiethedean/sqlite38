{
 "cells": [
  {
   "cell_type": "code",
   "execution_count": 1,
   "id": "fc25b156",
   "metadata": {},
   "outputs": [],
   "source": [
    "import sqlite3\n",
    "from datetime import datetime"
   ]
  },
  {
   "cell_type": "code",
   "execution_count": 4,
   "id": "b0f7f4d1",
   "metadata": {},
   "outputs": [],
   "source": [
    "con = sqlite3.connect('test1.db',\n",
    "                     detect_types=sqlite3.PARSE_DECLTYPES |\n",
    "                     sqlite3.PARSE_COLNAMES)"
   ]
  },
  {
   "cell_type": "code",
   "execution_count": 5,
   "id": "d5391346",
   "metadata": {},
   "outputs": [
    {
     "data": {
      "text/plain": [
       "<sqlite3.Cursor at 0x7ff108c46c00>"
      ]
     },
     "execution_count": 5,
     "metadata": {},
     "output_type": "execute_result"
    }
   ],
   "source": [
    "cur = con.cursor()\n",
    "cur"
   ]
  },
  {
   "cell_type": "code",
   "execution_count": null,
   "id": "b51247c5",
   "metadata": {},
   "outputs": [],
   "source": [
    "#TEXT as ISO8601 strings (\"YYYY-MM-DD HH:MM:SS.SSS\")."
   ]
  },
  {
   "cell_type": "code",
   "execution_count": 6,
   "id": "679ec75c",
   "metadata": {},
   "outputs": [],
   "source": [
    "sqlite_create_table_query = '''CREATE TABLE people (\n",
    "                                       id INTEGER PRIMARY KEY,\n",
    "                                       name TEXT NOT NULL,\n",
    "                                       date timestamp NOT NULL);'''\n",
    "with sqlite3.connect('test1.db',\n",
    "                     detect_types=sqlite3.PARSE_DECLTYPES |\n",
    "                     sqlite3.PARSE_COLNAMES) as con:\n",
    "    cur = con.cursor()\n",
    "    cur.execute(sqlite_create_table_query)"
   ]
  },
  {
   "cell_type": "code",
   "execution_count": 7,
   "id": "45cd362c",
   "metadata": {},
   "outputs": [
    {
     "name": "stdout",
     "output_type": "stream",
     "text": [
      "[]\n"
     ]
    }
   ],
   "source": [
    "with sqlite3.connect('test1.db') as con:\n",
    "    cur = con.cursor()\n",
    "    res = cur.execute(\"SELECT * FROM people\")\n",
    "    print(res.fetchall())"
   ]
  },
  {
   "cell_type": "code",
   "execution_count": 8,
   "id": "4037c863",
   "metadata": {},
   "outputs": [],
   "source": [
    "data = [\n",
    "    (1, 'Odos', datetime(1986, 1, 4)),\n",
    "    (2, 'Kayla', datetime(1993, 9, 21)),\n",
    "    (3, 'Dexter', datetime(2022, 5, 1)),\n",
    "]"
   ]
  },
  {
   "cell_type": "code",
   "execution_count": 10,
   "id": "c630745f",
   "metadata": {},
   "outputs": [],
   "source": [
    "with sqlite3.connect('test1.db') as con:\n",
    "    cur = con.cursor()\n",
    "    cur.executemany(\"INSERT INTO people VALUES(?, ?, ?)\", data)"
   ]
  },
  {
   "cell_type": "code",
   "execution_count": 26,
   "id": "3d13f521",
   "metadata": {},
   "outputs": [
    {
     "name": "stdout",
     "output_type": "stream",
     "text": [
      "[(1, 'Odos', '1986-01-04 00:00:00'), (2, 'Kayla', '1993-09-21 00:00:00'), (3, 'Dexter', '2022-05-01 00:00:00')]\n"
     ]
    }
   ],
   "source": [
    "with sqlite3.connect('test1.db') as con:\n",
    "    cur = con.cursor()\n",
    "    res = cur.execute(\"SELECT * FROM people\")\n",
    "    print(res.fetchall())"
   ]
  },
  {
   "cell_type": "code",
   "execution_count": 15,
   "id": "5ed10f81",
   "metadata": {},
   "outputs": [
    {
     "name": "stdout",
     "output_type": "stream",
     "text": [
      "[(1, 'Odos', datetime.datetime(1986, 1, 4, 0, 0)), (2, 'Kayla', datetime.datetime(1993, 9, 21, 0, 0)), (3, 'Dexter', datetime.datetime(2022, 5, 1, 0, 0))]\n"
     ]
    }
   ],
   "source": [
    "with sqlite3.connect('test1.db',\n",
    "                     detect_types=sqlite3.PARSE_DECLTYPES |\n",
    "                     sqlite3.PARSE_COLNAMES) as con:\n",
    "    cur = con.cursor()\n",
    "    res = cur.execute(\"SELECT * FROM people\")\n",
    "    rows = res.fetchall()\n",
    "    print(rows)"
   ]
  },
  {
   "cell_type": "code",
   "execution_count": 14,
   "id": "2f2a670b",
   "metadata": {},
   "outputs": [
    {
     "name": "stdout",
     "output_type": "stream",
     "text": [
      "Collecting pandas\n",
      "  Downloading pandas-2.0.0-cp38-cp38-macosx_10_9_x86_64.whl (11.6 MB)\n",
      "\u001b[2K     \u001b[90m━━━━━━━━━━━━━━━━━━━━━━━━━━━━━━━━━━━━━━━━\u001b[0m \u001b[32m11.6/11.6 MB\u001b[0m \u001b[31m7.6 MB/s\u001b[0m eta \u001b[36m0:00:00\u001b[0m00:01\u001b[0m00:01\u001b[0m\n",
      "\u001b[?25hCollecting pytz>=2020.1\n",
      "  Using cached pytz-2023.3-py2.py3-none-any.whl (502 kB)\n",
      "Collecting tzdata>=2022.1\n",
      "  Using cached tzdata-2023.3-py2.py3-none-any.whl (341 kB)\n",
      "Collecting numpy>=1.20.3\n",
      "  Using cached numpy-1.24.2-cp38-cp38-macosx_10_9_x86_64.whl (19.8 MB)\n",
      "Requirement already satisfied: python-dateutil>=2.8.2 in /Users/odosmatthews/opt/anaconda3/envs/sqlite38/lib/python3.8/site-packages (from pandas) (2.8.2)\n",
      "Requirement already satisfied: six>=1.5 in /Users/odosmatthews/opt/anaconda3/envs/sqlite38/lib/python3.8/site-packages (from python-dateutil>=2.8.2->pandas) (1.16.0)\n",
      "Installing collected packages: pytz, tzdata, numpy, pandas\n",
      "Successfully installed numpy-1.24.2 pandas-2.0.0 pytz-2023.3 tzdata-2023.3\n"
     ]
    }
   ],
   "source": [
    "!pip install pandas\n",
    "import pandas as pd"
   ]
  },
  {
   "cell_type": "code",
   "execution_count": 17,
   "id": "da45698c",
   "metadata": {},
   "outputs": [
    {
     "data": {
      "text/plain": [
       "id               int64\n",
       "name            object\n",
       "date    datetime64[ns]\n",
       "dtype: object"
      ]
     },
     "execution_count": 17,
     "metadata": {},
     "output_type": "execute_result"
    }
   ],
   "source": [
    "pd.DataFrame(rows, columns=('id', 'name', 'date')).dtypes"
   ]
  },
  {
   "cell_type": "code",
   "execution_count": 28,
   "id": "499ac93e",
   "metadata": {},
   "outputs": [],
   "source": [
    "def date_to_str(d: datetime):\n",
    "    return d.strftime(\"%Y-%m-%d %H:%M:%S\")\n",
    "\n",
    "d1 = datetime(1980, 1, 1)\n",
    "d2 = datetime(1995, 1, 1)"
   ]
  },
  {
   "cell_type": "code",
   "execution_count": 29,
   "id": "ccd20774",
   "metadata": {},
   "outputs": [
    {
     "data": {
      "text/plain": [
       "'SELECT * FROM people WHERE date BETWEEN \"1980-01-01 00:00:00\" AND \"1995-01-01 00:00:00\";'"
      ]
     },
     "execution_count": 29,
     "metadata": {},
     "output_type": "execute_result"
    }
   ],
   "source": [
    "sql = f'SELECT * FROM people WHERE date BETWEEN \"{date_to_str(d1)}\" AND \"{date_to_str(d2)}\";'\n",
    "sql"
   ]
  },
  {
   "cell_type": "code",
   "execution_count": 31,
   "id": "d0e6c6ce",
   "metadata": {},
   "outputs": [
    {
     "name": "stdout",
     "output_type": "stream",
     "text": [
      "[(1, 'Odos', datetime.datetime(1986, 1, 4, 0, 0)), (2, 'Kayla', datetime.datetime(1993, 9, 21, 0, 0))]\n"
     ]
    }
   ],
   "source": [
    "with sqlite3.connect('test1.db',\n",
    "                     detect_types=sqlite3.PARSE_DECLTYPES |\n",
    "                     sqlite3.PARSE_COLNAMES) as con:\n",
    "    cur = con.cursor()\n",
    "    res = cur.execute(sql)\n",
    "    print(res.fetchall())"
   ]
  },
  {
   "cell_type": "code",
   "execution_count": null,
   "id": "053de2d9",
   "metadata": {},
   "outputs": [],
   "source": []
  }
 ],
 "metadata": {
  "kernelspec": {
   "display_name": "Python 3 (ipykernel)",
   "language": "python",
   "name": "python3"
  },
  "language_info": {
   "codemirror_mode": {
    "name": "ipython",
    "version": 3
   },
   "file_extension": ".py",
   "mimetype": "text/x-python",
   "name": "python",
   "nbconvert_exporter": "python",
   "pygments_lexer": "ipython3",
   "version": "3.8.16"
  }
 },
 "nbformat": 4,
 "nbformat_minor": 5
}
