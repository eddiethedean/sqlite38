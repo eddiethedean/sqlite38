{
 "cells": [
  {
   "cell_type": "code",
   "execution_count": 10,
   "id": "48e245a7",
   "metadata": {},
   "outputs": [],
   "source": [
    "import sqlite3\n",
    "from datetime import datetime"
   ]
  },
  {
   "cell_type": "code",
   "execution_count": 11,
   "id": "c35e7efa",
   "metadata": {},
   "outputs": [],
   "source": [
    "sql = '''CREATE TABLE people (\n",
    "                id INTEGER PRIMARY KEY,\n",
    "                name TEXT NOT NULL,\n",
    "                date timestamp);'''"
   ]
  },
  {
   "cell_type": "code",
   "execution_count": 12,
   "id": "e28c7c7b",
   "metadata": {},
   "outputs": [],
   "source": [
    "with sqlite3.connect('test3.db',\n",
    "                     detect_types=sqlite3.PARSE_DECLTYPES |\n",
    "                     sqlite3.PARSE_COLNAMES) as sqliteConnection:\n",
    "    cursor = sqliteConnection.cursor()\n",
    "    cursor.execute(sql)"
   ]
  },
  {
   "cell_type": "code",
   "execution_count": 13,
   "id": "18c83ca5",
   "metadata": {},
   "outputs": [],
   "source": [
    "data = [\n",
    "    (1, 'Odos', datetime(1986, 1, 4)),\n",
    "    (2, 'Kayla', datetime(1993, 9, 21)),\n",
    "    (3, 'Dexter', datetime(2022, 5, 1)),\n",
    "]"
   ]
  },
  {
   "cell_type": "code",
   "execution_count": 14,
   "id": "1f901293",
   "metadata": {},
   "outputs": [],
   "source": [
    "with sqlite3.connect('test3.db',\n",
    "                     detect_types=sqlite3.PARSE_DECLTYPES |\n",
    "                     sqlite3.PARSE_COLNAMES) as con:\n",
    "    cur = con.cursor()\n",
    "    cur.executemany(\"INSERT INTO people VALUES(?, ?, ?)\", data)"
   ]
  },
  {
   "cell_type": "code",
   "execution_count": 15,
   "id": "340fa2be",
   "metadata": {},
   "outputs": [
    {
     "name": "stdout",
     "output_type": "stream",
     "text": [
      "[(1, 'Odos', datetime.datetime(1986, 1, 4, 0, 0)), (2, 'Kayla', datetime.datetime(1993, 9, 21, 0, 0)), (3, 'Dexter', datetime.datetime(2022, 5, 1, 0, 0))]\n"
     ]
    }
   ],
   "source": [
    "with sqlite3.connect('test3.db',\n",
    "                     detect_types=sqlite3.PARSE_DECLTYPES |\n",
    "                     sqlite3.PARSE_COLNAMES) as con:\n",
    "    cur = con.cursor()\n",
    "    res = cur.execute(\"SELECT * FROM people\")\n",
    "    print(res.fetchall())"
   ]
  },
  {
   "cell_type": "code",
   "execution_count": null,
   "id": "c66db661",
   "metadata": {},
   "outputs": [],
   "source": []
  }
 ],
 "metadata": {
  "kernelspec": {
   "display_name": "Python 3 (ipykernel)",
   "language": "python",
   "name": "python3"
  },
  "language_info": {
   "codemirror_mode": {
    "name": "ipython",
    "version": 3
   },
   "file_extension": ".py",
   "mimetype": "text/x-python",
   "name": "python",
   "nbconvert_exporter": "python",
   "pygments_lexer": "ipython3",
   "version": "3.8.16"
  }
 },
 "nbformat": 4,
 "nbformat_minor": 5
}
